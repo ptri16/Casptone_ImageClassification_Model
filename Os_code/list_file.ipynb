{
 "cells": [
  {
   "cell_type": "code",
   "execution_count": 2,
   "metadata": {},
   "outputs": [],
   "source": [
    "import os"
   ]
  },
  {
   "cell_type": "code",
   "execution_count": null,
   "metadata": {},
   "outputs": [],
   "source": [
    "text = open(\"../Dataset/Kaggle/label.txt\", \"w\")\n",
    "dir = \"../Dataset/Kaggle\"\n",
    "for name in os.listdir(dir):\n",
    "    text.write(f'{str(name)} \\n')\n",
    "text.close()"
   ]
  },
  {
   "cell_type": "code",
   "execution_count": 1,
   "metadata": {},
   "outputs": [
    {
     "name": "stdout",
     "output_type": "stream",
     "text": [
      "2.11.0\n"
     ]
    }
   ],
   "source": [
    "import tensorflow as tf\n",
    "print(tf.__version__)"
   ]
  },
  {
   "cell_type": "code",
   "execution_count": 5,
   "metadata": {},
   "outputs": [],
   "source": [
    "import requests\n",
    "from bs4 import BeautifulSoup\n",
    "import urllib.parse"
   ]
  },
  {
   "cell_type": "code",
   "execution_count": 6,
   "metadata": {},
   "outputs": [
    {
     "name": "stdout",
     "output_type": "stream",
     "text": [
      "Image 1 downloaded.\n",
      "Image 2 downloaded.\n",
      "Image 3 downloaded.\n",
      "Image 4 downloaded.\n",
      "Image 5 downloaded.\n",
      "Image 6 downloaded.\n",
      "Image 7 downloaded.\n",
      "Image 8 downloaded.\n",
      "Image 9 downloaded.\n",
      "Image 10 downloaded.\n",
      "Image scraping completed.\n"
     ]
    }
   ],
   "source": [
    "# Specify the search query\n",
    "search_query = 'Batik Barong'\n",
    "\n",
    "# Encode the search query for the URL\n",
    "encoded_query = urllib.parse.quote(search_query)\n",
    "\n",
    "# Specify the number of images to scrape\n",
    "num_images = 10\n",
    "\n",
    "# Specify the directory to save the downloaded images\n",
    "save_directory = '../Dataset/Batik_Barong'\n",
    "\n",
    "# Perform a Google Images search\n",
    "url = f'https://www.google.com/search?q={encoded_query}&tbm=isch'\n",
    "response = requests.get(url)\n",
    "soup = BeautifulSoup(response.text, 'html.parser')\n",
    "\n",
    "# Find the image URLs in the search results\n",
    "image_urls = []\n",
    "for img in soup.find_all('img'):\n",
    "    image_url = img.get('src')\n",
    "    if image_url and image_url.startswith('http'):\n",
    "        image_urls.append(image_url)\n",
    "\n",
    "# Download and save the images\n",
    "os.makedirs(save_directory, exist_ok=True)\n",
    "for i, image_url in enumerate(image_urls[:num_images]):\n",
    "    response = requests.get(image_url)\n",
    "    file_name = f\"image_{i+1}.jpg\"\n",
    "    file_path = os.path.join(save_directory, file_name)\n",
    "    with open(file_path, 'wb') as file:\n",
    "        file.write(response.content)\n",
    "    print(f\"Image {i+1} downloaded.\")\n",
    "\n",
    "print(\"Image scraping completed.\")"
   ]
  },
  {
   "cell_type": "code",
   "execution_count": 14,
   "metadata": {},
   "outputs": [
    {
     "name": "stdout",
     "output_type": "stream",
     "text": [
      "Image 1 downloaded.\n",
      "Image 2 downloaded.\n",
      "Image 3 downloaded.\n",
      "Image 4 downloaded.\n",
      "Image 5 downloaded.\n",
      "Image 6 downloaded.\n",
      "Image 7 downloaded.\n",
      "Image 8 downloaded.\n",
      "Image 9 downloaded.\n",
      "Image 10 downloaded.\n",
      "Image scraping completed.\n"
     ]
    }
   ],
   "source": [
    "import requests\n",
    "from bs4 import BeautifulSoup\n",
    "import urllib.parse\n",
    "import re\n",
    "\n",
    "# Specify the search query\n",
    "search_query = 'cat'\n",
    "\n",
    "# Encode the search query for the URL\n",
    "encoded_query = urllib.parse.quote(search_query)\n",
    "\n",
    "# Specify the number of images to scrape\n",
    "num_images = 10\n",
    "\n",
    "# Specify the directory to save the downloaded images\n",
    "save_directory = '../Dataset/Testing'\n",
    "\n",
    "# Perform a Google Images search\n",
    "url = f'https://www.google.com/search?q={encoded_query}&tbm=isch'\n",
    "response = requests.get(url)\n",
    "soup = BeautifulSoup(response.text, 'html.parser')\n",
    "\n",
    "# Find the image URLs in the search results\n",
    "image_urls = []\n",
    "for img in soup.find_all('img', {'src': re.compile(r'(https?:\\/\\/[^ \"]+)')}):\n",
    "    image_urls.append(img['src'])\n",
    "\n",
    "# Download the high-resolution images\n",
    "os.makedirs(save_directory, exist_ok=True)\n",
    "for i, image_url in enumerate(image_urls[:num_images]):\n",
    "    # Modify the image URL to request a higher resolution if possible\n",
    "    high_res_url = image_url.replace('w280', 'w1920')  # Modify the resolution as needed\n",
    "\n",
    "    # Download the high-resolution image\n",
    "    response = requests.get(high_res_url)\n",
    "    file_name = f\"image_{i+1}.jpg\"\n",
    "    file_path = os.path.join(save_directory, file_name)\n",
    "    with open(file_path, 'wb') as file:\n",
    "        file.write(response.content)\n",
    "    print(f\"Image {i+1} downloaded.\")\n",
    "\n",
    "print(\"Image scraping completed.\")\n"
   ]
  },
  {
   "cell_type": "code",
   "execution_count": 2,
   "metadata": {},
   "outputs": [
    {
     "ename": "TypeError",
     "evalue": "search() got an unexpected keyword argument 'img_type'",
     "output_type": "error",
     "traceback": [
      "\u001b[1;31m---------------------------------------------------------------------------\u001b[0m",
      "\u001b[1;31mTypeError\u001b[0m                                 Traceback (most recent call last)",
      "Cell \u001b[1;32mIn[2], line 11\u001b[0m\n\u001b[0;32m      8\u001b[0m num_images \u001b[39m=\u001b[39m \u001b[39m5\u001b[39m\n\u001b[0;32m     10\u001b[0m \u001b[39m# Perform a Google search for images\u001b[39;00m\n\u001b[1;32m---> 11\u001b[0m search_results \u001b[39m=\u001b[39m search(search_query, num_results\u001b[39m=\u001b[39;49mnum_images, img_type\u001b[39m=\u001b[39;49m\u001b[39m'\u001b[39;49m\u001b[39mphoto\u001b[39;49m\u001b[39m'\u001b[39;49m)\n\u001b[0;32m     13\u001b[0m \u001b[39m# Download the images\u001b[39;00m\n\u001b[0;32m     14\u001b[0m \u001b[39mfor\u001b[39;00m i, url \u001b[39min\u001b[39;00m \u001b[39menumerate\u001b[39m(search_results):\n",
      "\u001b[1;31mTypeError\u001b[0m: search() got an unexpected keyword argument 'img_type'"
     ]
    }
   ],
   "source": [
    "from googlesearch import search\n",
    "import requests\n",
    "\n",
    "# Specify the search query\n",
    "search_query = \"cat\"\n",
    "\n",
    "# Specify the number of images to download\n",
    "num_images = 5\n",
    "\n",
    "# Perform a Google search for images\n",
    "search_results = search(search_query, num_results=num_images, img_type='photo')\n",
    "\n",
    "# Download the images\n",
    "for i, url in enumerate(search_results):\n",
    "    try:\n",
    "        response = requests.get(url)\n",
    "        file_name = f\"image_{i+1}.jpg\"\n",
    "        with open(file_name, 'wb') as file:\n",
    "            file.write(response.content)\n",
    "        print(f\"Image {i+1} downloaded.\")\n",
    "    except Exception as e:\n",
    "        print(f\"Error downloading image {i+1}: {str(e)}\")\n",
    "\n",
    "print(\"Image downloading completed.\")\n"
   ]
  }
 ],
 "metadata": {
  "kernelspec": {
   "display_name": "Python 3",
   "language": "python",
   "name": "python3"
  },
  "language_info": {
   "codemirror_mode": {
    "name": "ipython",
    "version": 3
   },
   "file_extension": ".py",
   "mimetype": "text/x-python",
   "name": "python",
   "nbconvert_exporter": "python",
   "pygments_lexer": "ipython3",
   "version": "3.10.9"
  },
  "orig_nbformat": 4
 },
 "nbformat": 4,
 "nbformat_minor": 2
}
