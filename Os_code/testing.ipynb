{
 "cells": [
  {
   "cell_type": "code",
   "execution_count": 1,
   "metadata": {},
   "outputs": [],
   "source": [
    "import os"
   ]
  },
  {
   "cell_type": "code",
   "execution_count": 2,
   "metadata": {},
   "outputs": [
    {
     "name": "stdout",
     "output_type": "stream",
     "text": [
      "['cendrawasih', 'ceplok', 'lasem', 'megamendung', 'merak_abyorhokokai', 'parang', 'sekar_jagad', 'sidoluhur', 'sido_asih', 'singa_barong', 'sogan', 'tambal', 'tujuh_rupa']\n"
     ]
    }
   ],
   "source": [
    "data_dir = '../Dataset'\n",
    "desc_dir = '../Deskripsi'\n",
    "\n",
    "data_fnames = os.listdir(data_dir)\n",
    "print(data_fnames)"
   ]
  },
  {
   "cell_type": "code",
   "execution_count": 11,
   "metadata": {},
   "outputs": [],
   "source": [
    "os.rename('test/testing.txt', '../Dataset/hayu.txt')"
   ]
  },
  {
   "cell_type": "code",
   "execution_count": 13,
   "metadata": {},
   "outputs": [],
   "source": [
    "for dir in data_fnames:\n",
    "    file_path = os.path.join(data_dir, dir)\n",
    "    for file in os.listdir(file_path):\n",
    "        if os.path.isfile(os.path.join(file_path, file)):\n",
    "            name_path = os.path.join(file_path, file)\n",
    "            new_path = '../Deskripsi'\n",
    "            new_name  = f'{new_path}/{dir}.docx'\n",
    "            os.rename(name_path, new_name)"
   ]
  },
  {
   "cell_type": "code",
   "execution_count": null,
   "metadata": {},
   "outputs": [],
   "source": [
    "for dir in data_fnames:\n",
    "    file_path = os.path.join(data_dir, dir)\n",
    "    for file in os.listdir(file_path):\n",
    "        if os.path.isfile(os.path.join(file_path, file)):\n",
    "            print(file)"
   ]
  },
  {
   "cell_type": "code",
   "execution_count": null,
   "metadata": {},
   "outputs": [],
   "source": [
    "for dir in data_fnames:\n",
    "    file_path = os.path.join(data_dir, dir)\n",
    "    for file in os.listdir(file_path):\n",
    "        if os.path.isfile(os.path.join(file_path, file)):\n",
    "            print(file)"
   ]
  }
 ],
 "metadata": {
  "kernelspec": {
   "display_name": "Python 3",
   "language": "python",
   "name": "python3"
  },
  "language_info": {
   "codemirror_mode": {
    "name": "ipython",
    "version": 3
   },
   "file_extension": ".py",
   "mimetype": "text/x-python",
   "name": "python",
   "nbconvert_exporter": "python",
   "pygments_lexer": "ipython3",
   "version": "3.11.0"
  },
  "orig_nbformat": 4
 },
 "nbformat": 4,
 "nbformat_minor": 2
}
